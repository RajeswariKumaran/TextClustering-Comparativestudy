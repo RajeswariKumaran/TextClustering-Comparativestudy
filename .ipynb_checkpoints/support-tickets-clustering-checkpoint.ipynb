{
 "cells": [
  {
   "cell_type": "code",
   "execution_count": 12,
   "metadata": {
    "_cell_guid": "b1076dfc-b9ad-4769-8c92-a6c4dae69d19",
    "_uuid": "8f2839f25d086af736a60e9eeb907d3b93b6e0e5",
    "execution": {
     "iopub.execute_input": "2021-09-28T13:37:30.590670Z",
     "iopub.status.busy": "2021-09-28T13:37:30.590335Z",
     "iopub.status.idle": "2021-09-28T13:37:31.766005Z",
     "shell.execute_reply": "2021-09-28T13:37:31.764919Z",
     "shell.execute_reply.started": "2021-09-28T13:37:30.590614Z"
    }
   },
   "outputs": [],
   "source": [
    "# This Python 3 environment comes with many helpful analytics libraries installed\n",
    "# It is defined by the kaggle/python docker image: https://github.com/kaggle/docker-python\n",
    "# For example, here's several helpful packages to load in \n",
    "\n",
    "import numpy as np # linear algebra\n",
    "import pandas as pd # data processing, CSV file I/O (e.g. pd.read_csv)\n",
    "from sklearn.feature_extraction.text import CountVectorizer\n",
    "from sklearn.feature_extraction.text import TfidfTransformer\n",
    "#from sklearn.model_selection import train_test_split\n",
    "#from sklearn.linear_model import LogisticRegression\n",
    "from sklearn.metrics import make_scorer,f1_score, accuracy_score, precision_score\n",
    "from sklearn.model_selection import GridSearchCV\n",
    "\n"
   ]
  },
  {
   "cell_type": "code",
   "execution_count": 22,
   "metadata": {
    "execution": {
     "iopub.execute_input": "2021-09-28T13:37:36.882999Z",
     "iopub.status.busy": "2021-09-28T13:37:36.882674Z",
     "iopub.status.idle": "2021-09-28T13:37:37.373481Z",
     "shell.execute_reply": "2021-09-28T13:37:37.372563Z",
     "shell.execute_reply.started": "2021-09-28T13:37:36.882955Z"
    }
   },
   "outputs": [
    {
     "name": "stdout",
     "output_type": "stream",
     "text": [
      "<class 'pandas.core.frame.DataFrame'>\n",
      "RangeIndex: 48549 entries, 0 to 48548\n",
      "Data columns (total 9 columns):\n",
      " #   Column            Non-Null Count  Dtype \n",
      "---  ------            --------------  ----- \n",
      " 0   title             47837 non-null  object\n",
      " 1   body              48549 non-null  object\n",
      " 2   ticket_type       48549 non-null  int64 \n",
      " 3   category          48549 non-null  int64 \n",
      " 4   sub_category1     48549 non-null  int64 \n",
      " 5   sub_category2     48549 non-null  int64 \n",
      " 6   business_service  48549 non-null  int64 \n",
      " 7   urgency           48549 non-null  int64 \n",
      " 8   impact            48549 non-null  int64 \n",
      "dtypes: int64(7), object(2)\n",
      "memory usage: 3.3+ MB\n"
     ]
    }
   ],
   "source": [
    "dfTickets = pd.read_csv('all_tickets.csv')\n",
    "dfTickets.info()"
   ]
  },
  {
   "cell_type": "code",
   "execution_count": 23,
   "metadata": {
    "execution": {
     "iopub.execute_input": "2021-09-28T13:37:41.537690Z",
     "iopub.status.busy": "2021-09-28T13:37:41.537348Z",
     "iopub.status.idle": "2021-09-28T13:37:41.570278Z",
     "shell.execute_reply": "2021-09-28T13:37:41.569350Z",
     "shell.execute_reply.started": "2021-09-28T13:37:41.537628Z"
    }
   },
   "outputs": [
    {
     "data": {
      "text/html": [
       "<div>\n",
       "<style scoped>\n",
       "    .dataframe tbody tr th:only-of-type {\n",
       "        vertical-align: middle;\n",
       "    }\n",
       "\n",
       "    .dataframe tbody tr th {\n",
       "        vertical-align: top;\n",
       "    }\n",
       "\n",
       "    .dataframe thead th {\n",
       "        text-align: right;\n",
       "    }\n",
       "</style>\n",
       "<table border=\"1\" class=\"dataframe\">\n",
       "  <thead>\n",
       "    <tr style=\"text-align: right;\">\n",
       "      <th></th>\n",
       "      <th>title</th>\n",
       "      <th>body</th>\n",
       "      <th>ticket_type</th>\n",
       "      <th>category</th>\n",
       "      <th>sub_category1</th>\n",
       "      <th>sub_category2</th>\n",
       "      <th>business_service</th>\n",
       "      <th>urgency</th>\n",
       "      <th>impact</th>\n",
       "    </tr>\n",
       "  </thead>\n",
       "  <tbody>\n",
       "    <tr>\n",
       "      <th>0</th>\n",
       "      <td>NaN</td>\n",
       "      <td>hi since recruiter lead permission approve req...</td>\n",
       "      <td>1</td>\n",
       "      <td>4</td>\n",
       "      <td>2</td>\n",
       "      <td>21</td>\n",
       "      <td>71</td>\n",
       "      <td>3</td>\n",
       "      <td>4</td>\n",
       "    </tr>\n",
       "    <tr>\n",
       "      <th>1</th>\n",
       "      <td>connection with icon</td>\n",
       "      <td>icon dear please setup icon per icon engineers...</td>\n",
       "      <td>1</td>\n",
       "      <td>6</td>\n",
       "      <td>22</td>\n",
       "      <td>7</td>\n",
       "      <td>26</td>\n",
       "      <td>3</td>\n",
       "      <td>4</td>\n",
       "    </tr>\n",
       "    <tr>\n",
       "      <th>2</th>\n",
       "      <td>work experience user</td>\n",
       "      <td>work experience user hi work experience studen...</td>\n",
       "      <td>1</td>\n",
       "      <td>5</td>\n",
       "      <td>13</td>\n",
       "      <td>7</td>\n",
       "      <td>32</td>\n",
       "      <td>3</td>\n",
       "      <td>4</td>\n",
       "    </tr>\n",
       "    <tr>\n",
       "      <th>3</th>\n",
       "      <td>requesting for meeting</td>\n",
       "      <td>requesting meeting hi please help follow equip...</td>\n",
       "      <td>1</td>\n",
       "      <td>5</td>\n",
       "      <td>13</td>\n",
       "      <td>7</td>\n",
       "      <td>32</td>\n",
       "      <td>3</td>\n",
       "      <td>4</td>\n",
       "    </tr>\n",
       "    <tr>\n",
       "      <th>4</th>\n",
       "      <td>reset passwords for external accounts</td>\n",
       "      <td>re expire days hi ask help update passwords co...</td>\n",
       "      <td>1</td>\n",
       "      <td>4</td>\n",
       "      <td>2</td>\n",
       "      <td>76</td>\n",
       "      <td>4</td>\n",
       "      <td>3</td>\n",
       "      <td>4</td>\n",
       "    </tr>\n",
       "  </tbody>\n",
       "</table>\n",
       "</div>"
      ],
      "text/plain": [
       "                                   title  \\\n",
       "0                                    NaN   \n",
       "1                   connection with icon   \n",
       "2                   work experience user   \n",
       "3                 requesting for meeting   \n",
       "4  reset passwords for external accounts   \n",
       "\n",
       "                                                body  ticket_type  category  \\\n",
       "0  hi since recruiter lead permission approve req...            1         4   \n",
       "1  icon dear please setup icon per icon engineers...            1         6   \n",
       "2  work experience user hi work experience studen...            1         5   \n",
       "3  requesting meeting hi please help follow equip...            1         5   \n",
       "4  re expire days hi ask help update passwords co...            1         4   \n",
       "\n",
       "   sub_category1  sub_category2  business_service  urgency  impact  \n",
       "0              2             21                71        3       4  \n",
       "1             22              7                26        3       4  \n",
       "2             13              7                32        3       4  \n",
       "3             13              7                32        3       4  \n",
       "4              2             76                 4        3       4  "
      ]
     },
     "execution_count": 23,
     "metadata": {},
     "output_type": "execute_result"
    }
   ],
   "source": [
    "dfTickets.head()"
   ]
  },
  {
   "cell_type": "code",
   "execution_count": 24,
   "metadata": {},
   "outputs": [],
   "source": [
    "dfTickets_small = dfTickets.iloc[0:10000]"
   ]
  },
  {
   "cell_type": "code",
   "execution_count": 25,
   "metadata": {},
   "outputs": [
    {
     "data": {
      "text/plain": [
       "<bound method NDFrame.head of                                       title  \\\n",
       "0                                       NaN   \n",
       "1                      connection with icon   \n",
       "2                      work experience user   \n",
       "3                    requesting for meeting   \n",
       "4     reset passwords for external accounts   \n",
       "...                                     ...   \n",
       "9995                            access card   \n",
       "9996                        card new joiner   \n",
       "9997                             and access   \n",
       "9998                             new switch   \n",
       "9999                merchant portal site on   \n",
       "\n",
       "                                                   body  ticket_type  \\\n",
       "0     hi since recruiter lead permission approve req...            1   \n",
       "1     icon dear please setup icon per icon engineers...            1   \n",
       "2     work experience user hi work experience studen...            1   \n",
       "3     requesting meeting hi please help follow equip...            1   \n",
       "4     re expire days hi ask help update passwords co...            1   \n",
       "...                                                 ...          ...   \n",
       "9995  card hello moved understanding she left her ca...            1   \n",
       "9996           card joiner functional fie functional si            1   \n",
       "9997                                        please user            1   \n",
       "9998  switch problem switch la ca si merge port mea ...            1   \n",
       "9999  merchant site dear please create merchant part...            1   \n",
       "\n",
       "      category  sub_category1  sub_category2  business_service  urgency  \\\n",
       "0            4              2             21                71        3   \n",
       "1            6             22              7                26        3   \n",
       "2            5             13              7                32        3   \n",
       "3            5             13              7                32        3   \n",
       "4            4              2             76                 4        3   \n",
       "...        ...            ...            ...               ...      ...   \n",
       "9995         5             13              7                73        3   \n",
       "9996         7              1              7                73        3   \n",
       "9997         4              1              7                19        3   \n",
       "9998         6             22              7                52        3   \n",
       "9999         4              2              7                46        3   \n",
       "\n",
       "      impact  \n",
       "0          4  \n",
       "1          4  \n",
       "2          4  \n",
       "3          4  \n",
       "4          4  \n",
       "...      ...  \n",
       "9995       4  \n",
       "9996       4  \n",
       "9997       4  \n",
       "9998       4  \n",
       "9999       4  \n",
       "\n",
       "[10000 rows x 9 columns]>"
      ]
     },
     "execution_count": 25,
     "metadata": {},
     "output_type": "execute_result"
    }
   ],
   "source": [
    "dfTickets_small.head"
   ]
  },
  {
   "cell_type": "code",
   "execution_count": 26,
   "metadata": {
    "execution": {
     "iopub.execute_input": "2021-09-28T13:46:18.313286Z",
     "iopub.status.busy": "2021-09-28T13:46:18.312983Z",
     "iopub.status.idle": "2021-09-28T13:46:18.317981Z",
     "shell.execute_reply": "2021-09-28T13:46:18.316816Z",
     "shell.execute_reply.started": "2021-09-28T13:46:18.313243Z"
    }
   },
   "outputs": [],
   "source": [
    "X = pd.Series(dfTickets_small['body'])"
   ]
  },
  {
   "cell_type": "code",
   "execution_count": 29,
   "metadata": {},
   "outputs": [
    {
     "data": {
      "text/plain": [
       "(10000,)"
      ]
     },
     "execution_count": 29,
     "metadata": {},
     "output_type": "execute_result"
    }
   ],
   "source": [
    "X.shape"
   ]
  },
  {
   "cell_type": "code",
   "execution_count": 30,
   "metadata": {
    "execution": {
     "iopub.execute_input": "2021-09-28T13:50:15.574439Z",
     "iopub.status.busy": "2021-09-28T13:50:15.574053Z",
     "iopub.status.idle": "2021-09-28T13:50:16.540022Z",
     "shell.execute_reply": "2021-09-28T13:50:16.539206Z",
     "shell.execute_reply.started": "2021-09-28T13:50:15.574383Z"
    }
   },
   "outputs": [
    {
     "data": {
      "text/plain": [
       "(10000, 7312)"
      ]
     },
     "execution_count": 30,
     "metadata": {},
     "output_type": "execute_result"
    }
   ],
   "source": [
    "from sklearn.feature_extraction.text import CountVectorizer\n",
    "cv = CountVectorizer()\n",
    "X_tf = cv.fit_transform(X)\n",
    "X_tf.shape"
   ]
  },
  {
   "cell_type": "code",
   "execution_count": 31,
   "metadata": {
    "execution": {
     "iopub.execute_input": "2021-09-28T13:50:27.900166Z",
     "iopub.status.busy": "2021-09-28T13:50:27.899781Z",
     "iopub.status.idle": "2021-09-28T13:50:27.968307Z",
     "shell.execute_reply": "2021-09-28T13:50:27.967140Z",
     "shell.execute_reply.started": "2021-09-28T13:50:27.900105Z"
    }
   },
   "outputs": [
    {
     "data": {
      "text/plain": [
       "(10000, 7312)"
      ]
     },
     "execution_count": 31,
     "metadata": {},
     "output_type": "execute_result"
    }
   ],
   "source": [
    "from sklearn.feature_extraction.text import TfidfTransformer\n",
    "tfidf_transformer = TfidfTransformer()\n",
    "X_tfidf= tfidf_transformer.fit_transform(X_tf)\n",
    "X_tfidf.shape"
   ]
  },
  {
   "cell_type": "code",
   "execution_count": 32,
   "metadata": {
    "execution": {
     "iopub.execute_input": "2021-09-28T14:01:38.599753Z",
     "iopub.status.busy": "2021-09-28T14:01:38.599383Z"
    }
   },
   "outputs": [],
   "source": [
    "#conda install -c conda-forge hdbscan"
   ]
  },
  {
   "cell_type": "code",
   "execution_count": 33,
   "metadata": {
    "execution": {
     "iopub.execute_input": "2021-09-28T13:50:53.638835Z",
     "iopub.status.busy": "2021-09-28T13:50:53.638468Z",
     "iopub.status.idle": "2021-09-28T13:50:53.656507Z",
     "shell.execute_reply": "2021-09-28T13:50:53.654772Z",
     "shell.execute_reply.started": "2021-09-28T13:50:53.638760Z"
    }
   },
   "outputs": [],
   "source": [
    "import hdbscan"
   ]
  },
  {
   "cell_type": "code",
   "execution_count": 34,
   "metadata": {},
   "outputs": [],
   "source": [
    "clusterer = hdbscan.HDBSCAN(min_cluster_size=30)"
   ]
  },
  {
   "cell_type": "code",
   "execution_count": 35,
   "metadata": {},
   "outputs": [
    {
     "data": {
      "text/plain": [
       "HDBSCAN(min_cluster_size=30)"
      ]
     },
     "execution_count": 35,
     "metadata": {},
     "output_type": "execute_result"
    }
   ],
   "source": [
    "clusterer.fit(X_tfidf)"
   ]
  },
  {
   "cell_type": "code",
   "execution_count": 36,
   "metadata": {},
   "outputs": [
    {
     "data": {
      "text/plain": [
       "array([-1, -1, -1, ..., -1, -1, -1])"
      ]
     },
     "execution_count": 36,
     "metadata": {},
     "output_type": "execute_result"
    }
   ],
   "source": [
    "clusterer.labels_"
   ]
  },
  {
   "cell_type": "code",
   "execution_count": 37,
   "metadata": {},
   "outputs": [],
   "source": [
    "dfTickets_cluster = dfTickets_small"
   ]
  },
  {
   "cell_type": "code",
   "execution_count": 38,
   "metadata": {
    "scrolled": true
   },
   "outputs": [
    {
     "name": "stderr",
     "output_type": "stream",
     "text": [
      "/Users/raji/opt/anaconda3/lib/python3.7/site-packages/ipykernel_launcher.py:1: SettingWithCopyWarning: \n",
      "A value is trying to be set on a copy of a slice from a DataFrame.\n",
      "Try using .loc[row_indexer,col_indexer] = value instead\n",
      "\n",
      "See the caveats in the documentation: https://pandas.pydata.org/pandas-docs/stable/user_guide/indexing.html#returning-a-view-versus-a-copy\n",
      "  \"\"\"Entry point for launching an IPython kernel.\n"
     ]
    }
   ],
   "source": [
    "dfTickets_cluster['clusterno'] = clusterer.labels_.tolist()"
   ]
  },
  {
   "cell_type": "code",
   "execution_count": 39,
   "metadata": {},
   "outputs": [
    {
     "data": {
      "text/plain": [
       "<bound method NDFrame.head of                                       title  \\\n",
       "0                                       NaN   \n",
       "1                      connection with icon   \n",
       "2                      work experience user   \n",
       "3                    requesting for meeting   \n",
       "4     reset passwords for external accounts   \n",
       "...                                     ...   \n",
       "9995                            access card   \n",
       "9996                        card new joiner   \n",
       "9997                             and access   \n",
       "9998                             new switch   \n",
       "9999                merchant portal site on   \n",
       "\n",
       "                                                   body  ticket_type  \\\n",
       "0     hi since recruiter lead permission approve req...            1   \n",
       "1     icon dear please setup icon per icon engineers...            1   \n",
       "2     work experience user hi work experience studen...            1   \n",
       "3     requesting meeting hi please help follow equip...            1   \n",
       "4     re expire days hi ask help update passwords co...            1   \n",
       "...                                                 ...          ...   \n",
       "9995  card hello moved understanding she left her ca...            1   \n",
       "9996           card joiner functional fie functional si            1   \n",
       "9997                                        please user            1   \n",
       "9998  switch problem switch la ca si merge port mea ...            1   \n",
       "9999  merchant site dear please create merchant part...            1   \n",
       "\n",
       "      category  sub_category1  sub_category2  business_service  urgency  \\\n",
       "0            4              2             21                71        3   \n",
       "1            6             22              7                26        3   \n",
       "2            5             13              7                32        3   \n",
       "3            5             13              7                32        3   \n",
       "4            4              2             76                 4        3   \n",
       "...        ...            ...            ...               ...      ...   \n",
       "9995         5             13              7                73        3   \n",
       "9996         7              1              7                73        3   \n",
       "9997         4              1              7                19        3   \n",
       "9998         6             22              7                52        3   \n",
       "9999         4              2              7                46        3   \n",
       "\n",
       "      impact  clusterno  \n",
       "0          4         -1  \n",
       "1          4         -1  \n",
       "2          4         -1  \n",
       "3          4         -1  \n",
       "4          4         -1  \n",
       "...      ...        ...  \n",
       "9995       4         -1  \n",
       "9996       4         -1  \n",
       "9997       4         -1  \n",
       "9998       4         -1  \n",
       "9999       4         -1  \n",
       "\n",
       "[10000 rows x 10 columns]>"
      ]
     },
     "execution_count": 39,
     "metadata": {},
     "output_type": "execute_result"
    }
   ],
   "source": [
    "dfTickets_cluster.head"
   ]
  },
  {
   "cell_type": "code",
   "execution_count": 75,
   "metadata": {
    "scrolled": true
   },
   "outputs": [
    {
     "data": {
      "text/html": [
       "<div>\n",
       "<style scoped>\n",
       "    .dataframe tbody tr th:only-of-type {\n",
       "        vertical-align: middle;\n",
       "    }\n",
       "\n",
       "    .dataframe tbody tr th {\n",
       "        vertical-align: top;\n",
       "    }\n",
       "\n",
       "    .dataframe thead th {\n",
       "        text-align: right;\n",
       "    }\n",
       "</style>\n",
       "<table border=\"1\" class=\"dataframe\">\n",
       "  <thead>\n",
       "    <tr style=\"text-align: right;\">\n",
       "      <th></th>\n",
       "      <th>title</th>\n",
       "      <th>body</th>\n",
       "      <th>ticket_type</th>\n",
       "      <th>category</th>\n",
       "      <th>sub_category1</th>\n",
       "      <th>sub_category2</th>\n",
       "      <th>business_service</th>\n",
       "      <th>urgency</th>\n",
       "      <th>impact</th>\n",
       "      <th>clusterno</th>\n",
       "    </tr>\n",
       "  </thead>\n",
       "  <tbody>\n",
       "    <tr>\n",
       "      <th>46</th>\n",
       "      <td>wants to access requesting it hardware equipment</td>\n",
       "      <td>wants requesting hardware equipment monitor ac...</td>\n",
       "      <td>1</td>\n",
       "      <td>4</td>\n",
       "      <td>1</td>\n",
       "      <td>7</td>\n",
       "      <td>46</td>\n",
       "      <td>3</td>\n",
       "      <td>4</td>\n",
       "      <td>3</td>\n",
       "    </tr>\n",
       "    <tr>\n",
       "      <th>240</th>\n",
       "      <td>wants to access glossary</td>\n",
       "      <td>wants glossary hi please give update thank acc...</td>\n",
       "      <td>1</td>\n",
       "      <td>4</td>\n",
       "      <td>1</td>\n",
       "      <td>7</td>\n",
       "      <td>46</td>\n",
       "      <td>3</td>\n",
       "      <td>4</td>\n",
       "      <td>3</td>\n",
       "    </tr>\n",
       "    <tr>\n",
       "      <th>254</th>\n",
       "      <td>day wants to access resources</td>\n",
       "      <td>wants resources presentation accept decline re...</td>\n",
       "      <td>1</td>\n",
       "      <td>4</td>\n",
       "      <td>1</td>\n",
       "      <td>7</td>\n",
       "      <td>46</td>\n",
       "      <td>3</td>\n",
       "      <td>4</td>\n",
       "      <td>3</td>\n",
       "    </tr>\n",
       "    <tr>\n",
       "      <th>381</th>\n",
       "      <td>wants to access testing</td>\n",
       "      <td>wants testing please thank accept decline requ...</td>\n",
       "      <td>1</td>\n",
       "      <td>4</td>\n",
       "      <td>1</td>\n",
       "      <td>7</td>\n",
       "      <td>46</td>\n",
       "      <td>3</td>\n",
       "      <td>4</td>\n",
       "      <td>3</td>\n",
       "    </tr>\n",
       "    <tr>\n",
       "      <th>396</th>\n",
       "      <td>firth wants to access testing discipline</td>\n",
       "      <td>wants testing discipline hi please accept decl...</td>\n",
       "      <td>1</td>\n",
       "      <td>4</td>\n",
       "      <td>1</td>\n",
       "      <td>7</td>\n",
       "      <td>46</td>\n",
       "      <td>3</td>\n",
       "      <td>4</td>\n",
       "      <td>3</td>\n",
       "    </tr>\n",
       "    <tr>\n",
       "      <th>...</th>\n",
       "      <td>...</td>\n",
       "      <td>...</td>\n",
       "      <td>...</td>\n",
       "      <td>...</td>\n",
       "      <td>...</td>\n",
       "      <td>...</td>\n",
       "      <td>...</td>\n",
       "      <td>...</td>\n",
       "      <td>...</td>\n",
       "      <td>...</td>\n",
       "    </tr>\n",
       "    <tr>\n",
       "      <th>9669</th>\n",
       "      <td>eke wants to access executed th dec</td>\n",
       "      <td>wants executed accept decline requests</td>\n",
       "      <td>1</td>\n",
       "      <td>4</td>\n",
       "      <td>1</td>\n",
       "      <td>7</td>\n",
       "      <td>46</td>\n",
       "      <td>3</td>\n",
       "      <td>4</td>\n",
       "      <td>3</td>\n",
       "    </tr>\n",
       "    <tr>\n",
       "      <th>9700</th>\n",
       "      <td>wants to access sales</td>\n",
       "      <td>wants write accept decline requests</td>\n",
       "      <td>1</td>\n",
       "      <td>4</td>\n",
       "      <td>3</td>\n",
       "      <td>7</td>\n",
       "      <td>46</td>\n",
       "      <td>3</td>\n",
       "      <td>4</td>\n",
       "      <td>3</td>\n",
       "    </tr>\n",
       "    <tr>\n",
       "      <th>9714</th>\n",
       "      <td>wants to access account documentation</td>\n",
       "      <td>wants documentation please add files accept de...</td>\n",
       "      <td>1</td>\n",
       "      <td>4</td>\n",
       "      <td>1</td>\n",
       "      <td>7</td>\n",
       "      <td>46</td>\n",
       "      <td>3</td>\n",
       "      <td>4</td>\n",
       "      <td>3</td>\n",
       "    </tr>\n",
       "    <tr>\n",
       "      <th>9791</th>\n",
       "      <td>wants to access resources</td>\n",
       "      <td>wants resources head please accept decline req...</td>\n",
       "      <td>1</td>\n",
       "      <td>4</td>\n",
       "      <td>2</td>\n",
       "      <td>7</td>\n",
       "      <td>46</td>\n",
       "      <td>3</td>\n",
       "      <td>4</td>\n",
       "      <td>3</td>\n",
       "    </tr>\n",
       "    <tr>\n",
       "      <th>9886</th>\n",
       "      <td>wants to access information security</td>\n",
       "      <td>wants information want classification policy d...</td>\n",
       "      <td>1</td>\n",
       "      <td>4</td>\n",
       "      <td>1</td>\n",
       "      <td>7</td>\n",
       "      <td>46</td>\n",
       "      <td>3</td>\n",
       "      <td>4</td>\n",
       "      <td>3</td>\n",
       "    </tr>\n",
       "  </tbody>\n",
       "</table>\n",
       "<p>180 rows × 10 columns</p>\n",
       "</div>"
      ],
      "text/plain": [
       "                                                 title  \\\n",
       "46    wants to access requesting it hardware equipment   \n",
       "240                           wants to access glossary   \n",
       "254                      day wants to access resources   \n",
       "381                            wants to access testing   \n",
       "396           firth wants to access testing discipline   \n",
       "...                                                ...   \n",
       "9669               eke wants to access executed th dec   \n",
       "9700                             wants to access sales   \n",
       "9714             wants to access account documentation   \n",
       "9791                         wants to access resources   \n",
       "9886              wants to access information security   \n",
       "\n",
       "                                                   body  ticket_type  \\\n",
       "46    wants requesting hardware equipment monitor ac...            1   \n",
       "240   wants glossary hi please give update thank acc...            1   \n",
       "254   wants resources presentation accept decline re...            1   \n",
       "381   wants testing please thank accept decline requ...            1   \n",
       "396   wants testing discipline hi please accept decl...            1   \n",
       "...                                                 ...          ...   \n",
       "9669             wants executed accept decline requests            1   \n",
       "9700                wants write accept decline requests            1   \n",
       "9714  wants documentation please add files accept de...            1   \n",
       "9791  wants resources head please accept decline req...            1   \n",
       "9886  wants information want classification policy d...            1   \n",
       "\n",
       "      category  sub_category1  sub_category2  business_service  urgency  \\\n",
       "46           4              1              7                46        3   \n",
       "240          4              1              7                46        3   \n",
       "254          4              1              7                46        3   \n",
       "381          4              1              7                46        3   \n",
       "396          4              1              7                46        3   \n",
       "...        ...            ...            ...               ...      ...   \n",
       "9669         4              1              7                46        3   \n",
       "9700         4              3              7                46        3   \n",
       "9714         4              1              7                46        3   \n",
       "9791         4              2              7                46        3   \n",
       "9886         4              1              7                46        3   \n",
       "\n",
       "      impact  clusterno  \n",
       "46         4          3  \n",
       "240        4          3  \n",
       "254        4          3  \n",
       "381        4          3  \n",
       "396        4          3  \n",
       "...      ...        ...  \n",
       "9669       4          3  \n",
       "9700       4          3  \n",
       "9714       4          3  \n",
       "9791       4          3  \n",
       "9886       4          3  \n",
       "\n",
       "[180 rows x 10 columns]"
      ]
     },
     "execution_count": 75,
     "metadata": {},
     "output_type": "execute_result"
    }
   ],
   "source": [
    "dfTickets_cluster.loc[dfTickets_cluster['clusterno']==3]"
   ]
  },
  {
   "cell_type": "code",
   "execution_count": 40,
   "metadata": {},
   "outputs": [],
   "source": [
    "dfTickets_cluster.to_excel(\"output_hdbscan_30.xlsx\") "
   ]
  },
  {
   "cell_type": "code",
   "execution_count": 41,
   "metadata": {},
   "outputs": [],
   "source": [
    "#Lets try this with spherical kmeans clustering"
   ]
  },
  {
   "cell_type": "code",
   "execution_count": 78,
   "metadata": {},
   "outputs": [
    {
     "name": "stdout",
     "output_type": "stream",
     "text": [
      "Collecting coclust\n",
      "  Downloading https://files.pythonhosted.org/packages/5d/44/ad5a69c7187c2b7bcf2c45596e9052811a3be52f4fcaa6709937c5146ee2/coclust-0.2.1.tar.gz\n",
      "Requirement already satisfied: numpy in /Users/raji/opt/anaconda3/lib/python3.7/site-packages (from coclust) (1.17.2)\n",
      "Requirement already satisfied: scipy in /Users/raji/opt/anaconda3/lib/python3.7/site-packages (from coclust) (1.6.3)\n",
      "Requirement already satisfied: scikit-learn in /Users/raji/opt/anaconda3/lib/python3.7/site-packages (from coclust) (0.24.2)\n",
      "Requirement already satisfied: threadpoolctl>=2.0.0 in /Users/raji/opt/anaconda3/lib/python3.7/site-packages (from scikit-learn->coclust) (2.1.0)\n",
      "Requirement already satisfied: joblib>=0.11 in /Users/raji/opt/anaconda3/lib/python3.7/site-packages (from scikit-learn->coclust) (0.17.0)\n",
      "Building wheels for collected packages: coclust\n",
      "  Building wheel for coclust (setup.py) ... \u001b[?25ldone\n",
      "\u001b[?25h  Created wheel for coclust: filename=coclust-0.2.1-cp37-none-any.whl size=29873 sha256=483e3fe483e602e92c468173687e666b24e8dc90868ab51ae46bf11dea4eb28a\n",
      "  Stored in directory: /Users/raji/Library/Caches/pip/wheels/cd/d7/68/df601d0b5f8b934cf890dc626c2271df381fb0c3e910b0a34e\n",
      "Successfully built coclust\n",
      "Installing collected packages: coclust\n",
      "Successfully installed coclust-0.2.1\n"
     ]
    }
   ],
   "source": [
    "!pip install coclust"
   ]
  },
  {
   "cell_type": "code",
   "execution_count": 42,
   "metadata": {},
   "outputs": [],
   "source": [
    "import coclust.clustering"
   ]
  },
  {
   "cell_type": "code",
   "execution_count": 43,
   "metadata": {},
   "outputs": [],
   "source": [
    "kmeans_cluster = coclust.clustering.SphericalKmeans(n_clusters=30)"
   ]
  },
  {
   "cell_type": "code",
   "execution_count": 83,
   "metadata": {},
   "outputs": [
    {
     "name": "stdout",
     "output_type": "stream",
     "text": [
      " == New init == \n",
      "iteration: 0\n",
      "1352.3554632143064\n",
      "iteration: 1\n",
      "2294.2346006097114\n",
      "iteration: 2\n",
      "2612.0733887169235\n",
      "iteration: 3\n",
      "2732.3495214039267\n",
      "iteration: 4\n",
      "2770.5257825959657\n",
      "iteration: 5\n",
      "2790.3609011475164\n",
      "iteration: 6\n",
      "2798.47536327204\n",
      "iteration: 7\n",
      "2805.364915747658\n",
      "iteration: 8\n",
      "2808.874929937371\n",
      "iteration: 9\n",
      "2810.9490407210096\n",
      "iteration: 10\n",
      "2812.378568552787\n",
      "iteration: 11\n",
      "2813.586249790181\n",
      "iteration: 12\n",
      "2814.6873326509954\n",
      "iteration: 13\n",
      "2815.5649704361676\n",
      "iteration: 14\n",
      "2816.258019189092\n",
      "iteration: 15\n",
      "2817.2564962228457\n",
      "iteration: 16\n",
      "2818.343915254059\n",
      "iteration: 17\n",
      "2819.0797986217754\n",
      "iteration: 18\n",
      "2819.454019148161\n",
      "iteration: 19\n",
      "2819.707344876487\n"
     ]
    }
   ],
   "source": [
    "kmeans_cluster.fit(X_tfidf)"
   ]
  },
  {
   "cell_type": "code",
   "execution_count": 65,
   "metadata": {},
   "outputs": [],
   "source": [
    "#kmeans_cluster.labels_\n"
   ]
  },
  {
   "cell_type": "code",
   "execution_count": 87,
   "metadata": {},
   "outputs": [],
   "source": [
    "dfTickets_cluster_kmeans = dfTickets_small"
   ]
  },
  {
   "cell_type": "code",
   "execution_count": 88,
   "metadata": {},
   "outputs": [
    {
     "name": "stderr",
     "output_type": "stream",
     "text": [
      "/Users/raji/opt/anaconda3/lib/python3.7/site-packages/ipykernel_launcher.py:1: SettingWithCopyWarning: \n",
      "A value is trying to be set on a copy of a slice from a DataFrame.\n",
      "Try using .loc[row_indexer,col_indexer] = value instead\n",
      "\n",
      "See the caveats in the documentation: https://pandas.pydata.org/pandas-docs/stable/user_guide/indexing.html#returning-a-view-versus-a-copy\n",
      "  \"\"\"Entry point for launching an IPython kernel.\n"
     ]
    }
   ],
   "source": [
    "dfTickets_cluster_kmeans['clusterno'] = kmeans_cluster.labels_"
   ]
  },
  {
   "cell_type": "code",
   "execution_count": 89,
   "metadata": {},
   "outputs": [
    {
     "data": {
      "text/plain": [
       "<bound method NDFrame.head of                                       title  \\\n",
       "0                                       NaN   \n",
       "1                      connection with icon   \n",
       "2                      work experience user   \n",
       "3                    requesting for meeting   \n",
       "4     reset passwords for external accounts   \n",
       "...                                     ...   \n",
       "9995                            access card   \n",
       "9996                        card new joiner   \n",
       "9997                             and access   \n",
       "9998                             new switch   \n",
       "9999                merchant portal site on   \n",
       "\n",
       "                                                   body  ticket_type  \\\n",
       "0     hi since recruiter lead permission approve req...            1   \n",
       "1     icon dear please setup icon per icon engineers...            1   \n",
       "2     work experience user hi work experience studen...            1   \n",
       "3     requesting meeting hi please help follow equip...            1   \n",
       "4     re expire days hi ask help update passwords co...            1   \n",
       "...                                                 ...          ...   \n",
       "9995  card hello moved understanding she left her ca...            1   \n",
       "9996           card joiner functional fie functional si            1   \n",
       "9997                                        please user            1   \n",
       "9998  switch problem switch la ca si merge port mea ...            1   \n",
       "9999  merchant site dear please create merchant part...            1   \n",
       "\n",
       "      category  sub_category1  sub_category2  business_service  urgency  \\\n",
       "0            4              2             21                71        3   \n",
       "1            6             22              7                26        3   \n",
       "2            5             13              7                32        3   \n",
       "3            5             13              7                32        3   \n",
       "4            4              2             76                 4        3   \n",
       "...        ...            ...            ...               ...      ...   \n",
       "9995         5             13              7                73        3   \n",
       "9996         7              1              7                73        3   \n",
       "9997         4              1              7                19        3   \n",
       "9998         6             22              7                52        3   \n",
       "9999         4              2              7                46        3   \n",
       "\n",
       "      impact  clusterno  \n",
       "0          4          2  \n",
       "1          4          5  \n",
       "2          4          8  \n",
       "3          4         15  \n",
       "4          4         14  \n",
       "...      ...        ...  \n",
       "9995       4          0  \n",
       "9996       4         27  \n",
       "9997       4          8  \n",
       "9998       4         27  \n",
       "9999       4          8  \n",
       "\n",
       "[10000 rows x 10 columns]>"
      ]
     },
     "execution_count": 89,
     "metadata": {},
     "output_type": "execute_result"
    }
   ],
   "source": [
    "dfTickets_cluster_kmeans.head"
   ]
  },
  {
   "cell_type": "code",
   "execution_count": 90,
   "metadata": {},
   "outputs": [
    {
     "data": {
      "text/html": [
       "<div>\n",
       "<style scoped>\n",
       "    .dataframe tbody tr th:only-of-type {\n",
       "        vertical-align: middle;\n",
       "    }\n",
       "\n",
       "    .dataframe tbody tr th {\n",
       "        vertical-align: top;\n",
       "    }\n",
       "\n",
       "    .dataframe thead th {\n",
       "        text-align: right;\n",
       "    }\n",
       "</style>\n",
       "<table border=\"1\" class=\"dataframe\">\n",
       "  <thead>\n",
       "    <tr style=\"text-align: right;\">\n",
       "      <th></th>\n",
       "      <th>title</th>\n",
       "      <th>body</th>\n",
       "      <th>ticket_type</th>\n",
       "      <th>category</th>\n",
       "      <th>sub_category1</th>\n",
       "      <th>sub_category2</th>\n",
       "      <th>business_service</th>\n",
       "      <th>urgency</th>\n",
       "      <th>impact</th>\n",
       "      <th>clusterno</th>\n",
       "    </tr>\n",
       "  </thead>\n",
       "  <tbody>\n",
       "    <tr>\n",
       "      <th>28</th>\n",
       "      <td>annual leave</td>\n",
       "      <td>re annual leave hello please help absence reco...</td>\n",
       "      <td>1</td>\n",
       "      <td>4</td>\n",
       "      <td>2</td>\n",
       "      <td>7</td>\n",
       "      <td>67</td>\n",
       "      <td>3</td>\n",
       "      <td>4</td>\n",
       "      <td>3</td>\n",
       "    </tr>\n",
       "    <tr>\n",
       "      <th>76</th>\n",
       "      <td>all staff outlook</td>\n",
       "      <td>hello please make cancel moved offices startin...</td>\n",
       "      <td>1</td>\n",
       "      <td>4</td>\n",
       "      <td>3</td>\n",
       "      <td>7</td>\n",
       "      <td>36</td>\n",
       "      <td>3</td>\n",
       "      <td>4</td>\n",
       "      <td>3</td>\n",
       "    </tr>\n",
       "    <tr>\n",
       "      <th>88</th>\n",
       "      <td>time sheets</td>\n",
       "      <td>sheets hi please entries thank</td>\n",
       "      <td>1</td>\n",
       "      <td>4</td>\n",
       "      <td>2</td>\n",
       "      <td>21</td>\n",
       "      <td>67</td>\n",
       "      <td>3</td>\n",
       "      <td>4</td>\n",
       "      <td>3</td>\n",
       "    </tr>\n",
       "    <tr>\n",
       "      <th>98</th>\n",
       "      <td>access to upload and modify documents on</td>\n",
       "      <td>upload modify hi give write accumulations orde...</td>\n",
       "      <td>1</td>\n",
       "      <td>4</td>\n",
       "      <td>1</td>\n",
       "      <td>7</td>\n",
       "      <td>46</td>\n",
       "      <td>3</td>\n",
       "      <td>4</td>\n",
       "      <td>3</td>\n",
       "    </tr>\n",
       "    <tr>\n",
       "      <th>123</th>\n",
       "      <td>close all the projects</td>\n",
       "      <td>annual leave codes has assigned hi please clos...</td>\n",
       "      <td>1</td>\n",
       "      <td>4</td>\n",
       "      <td>2</td>\n",
       "      <td>87</td>\n",
       "      <td>67</td>\n",
       "      <td>3</td>\n",
       "      <td>4</td>\n",
       "      <td>3</td>\n",
       "    </tr>\n",
       "    <tr>\n",
       "      <th>...</th>\n",
       "      <td>...</td>\n",
       "      <td>...</td>\n",
       "      <td>...</td>\n",
       "      <td>...</td>\n",
       "      <td>...</td>\n",
       "      <td>...</td>\n",
       "      <td>...</td>\n",
       "      <td>...</td>\n",
       "      <td>...</td>\n",
       "      <td>...</td>\n",
       "    </tr>\n",
       "    <tr>\n",
       "      <th>9925</th>\n",
       "      <td>annual leave request for th of</td>\n",
       "      <td>annual leave hi please submit annual leave tha...</td>\n",
       "      <td>1</td>\n",
       "      <td>4</td>\n",
       "      <td>2</td>\n",
       "      <td>105</td>\n",
       "      <td>67</td>\n",
       "      <td>3</td>\n",
       "      <td>4</td>\n",
       "      <td>3</td>\n",
       "    </tr>\n",
       "    <tr>\n",
       "      <th>9931</th>\n",
       "      <td>booking time off for today</td>\n",
       "      <td>booking off today hi problem booked today off ...</td>\n",
       "      <td>1</td>\n",
       "      <td>4</td>\n",
       "      <td>2</td>\n",
       "      <td>105</td>\n",
       "      <td>67</td>\n",
       "      <td>3</td>\n",
       "      <td>4</td>\n",
       "      <td>3</td>\n",
       "    </tr>\n",
       "    <tr>\n",
       "      <th>9937</th>\n",
       "      <td>time sheet annual leave</td>\n",
       "      <td>hello left please enter sheet him period he an...</td>\n",
       "      <td>1</td>\n",
       "      <td>4</td>\n",
       "      <td>2</td>\n",
       "      <td>21</td>\n",
       "      <td>67</td>\n",
       "      <td>3</td>\n",
       "      <td>4</td>\n",
       "      <td>3</td>\n",
       "    </tr>\n",
       "    <tr>\n",
       "      <th>9942</th>\n",
       "      <td>urgent re si de mea</td>\n",
       "      <td>urgent re si mea hi thank changing per log acc...</td>\n",
       "      <td>1</td>\n",
       "      <td>4</td>\n",
       "      <td>2</td>\n",
       "      <td>21</td>\n",
       "      <td>4</td>\n",
       "      <td>3</td>\n",
       "      <td>4</td>\n",
       "      <td>3</td>\n",
       "    </tr>\n",
       "    <tr>\n",
       "      <th>9994</th>\n",
       "      <td>oracle delegate</td>\n",
       "      <td>delegate good wonder while holiday delegate ap...</td>\n",
       "      <td>1</td>\n",
       "      <td>4</td>\n",
       "      <td>3</td>\n",
       "      <td>105</td>\n",
       "      <td>66</td>\n",
       "      <td>3</td>\n",
       "      <td>4</td>\n",
       "      <td>3</td>\n",
       "    </tr>\n",
       "  </tbody>\n",
       "</table>\n",
       "<p>320 rows × 10 columns</p>\n",
       "</div>"
      ],
      "text/plain": [
       "                                         title  \\\n",
       "28                                annual leave   \n",
       "76                           all staff outlook   \n",
       "88                                 time sheets   \n",
       "98    access to upload and modify documents on   \n",
       "123                     close all the projects   \n",
       "...                                        ...   \n",
       "9925            annual leave request for th of   \n",
       "9931                booking time off for today   \n",
       "9937                   time sheet annual leave   \n",
       "9942                       urgent re si de mea   \n",
       "9994                           oracle delegate   \n",
       "\n",
       "                                                   body  ticket_type  \\\n",
       "28    re annual leave hello please help absence reco...            1   \n",
       "76    hello please make cancel moved offices startin...            1   \n",
       "88                       sheets hi please entries thank            1   \n",
       "98    upload modify hi give write accumulations orde...            1   \n",
       "123   annual leave codes has assigned hi please clos...            1   \n",
       "...                                                 ...          ...   \n",
       "9925  annual leave hi please submit annual leave tha...            1   \n",
       "9931  booking off today hi problem booked today off ...            1   \n",
       "9937  hello left please enter sheet him period he an...            1   \n",
       "9942  urgent re si mea hi thank changing per log acc...            1   \n",
       "9994  delegate good wonder while holiday delegate ap...            1   \n",
       "\n",
       "      category  sub_category1  sub_category2  business_service  urgency  \\\n",
       "28           4              2              7                67        3   \n",
       "76           4              3              7                36        3   \n",
       "88           4              2             21                67        3   \n",
       "98           4              1              7                46        3   \n",
       "123          4              2             87                67        3   \n",
       "...        ...            ...            ...               ...      ...   \n",
       "9925         4              2            105                67        3   \n",
       "9931         4              2            105                67        3   \n",
       "9937         4              2             21                67        3   \n",
       "9942         4              2             21                 4        3   \n",
       "9994         4              3            105                66        3   \n",
       "\n",
       "      impact  clusterno  \n",
       "28         4          3  \n",
       "76         4          3  \n",
       "88         4          3  \n",
       "98         4          3  \n",
       "123        4          3  \n",
       "...      ...        ...  \n",
       "9925       4          3  \n",
       "9931       4          3  \n",
       "9937       4          3  \n",
       "9942       4          3  \n",
       "9994       4          3  \n",
       "\n",
       "[320 rows x 10 columns]"
      ]
     },
     "execution_count": 90,
     "metadata": {},
     "output_type": "execute_result"
    }
   ],
   "source": [
    "dfTickets_cluster_kmeans.loc[dfTickets_cluster_kmeans['clusterno']==3]"
   ]
  },
  {
   "cell_type": "code",
   "execution_count": 91,
   "metadata": {},
   "outputs": [],
   "source": [
    "dfTickets_cluster_kmeans.to_excel(\"output_sphericalkmeans_30.xlsx\") "
   ]
  },
  {
   "cell_type": "code",
   "execution_count": 18,
   "metadata": {},
   "outputs": [
    {
     "name": "stdout",
     "output_type": "stream",
     "text": [
      "Collecting sentence_transformers\n",
      "  Downloading sentence-transformers-2.1.0.tar.gz (78 kB)\n",
      "\u001b[K     |████████████████████████████████| 78 kB 1.3 MB/s eta 0:00:01\n",
      "\u001b[?25hRequirement already satisfied: transformers<5.0.0,>=4.6.0 in /Users/raji/opt/anaconda3/lib/python3.7/site-packages (from sentence_transformers) (4.6.0)\n",
      "Collecting tokenizers>=0.10.3\n",
      "  Downloading tokenizers-0.10.3-cp37-cp37m-macosx_10_11_x86_64.whl (2.2 MB)\n",
      "\u001b[K     |████████████████████████████████| 2.2 MB 2.3 MB/s eta 0:00:01\n",
      "\u001b[?25hRequirement already satisfied: tqdm in /Users/raji/opt/anaconda3/lib/python3.7/site-packages (from sentence_transformers) (4.60.0)\n",
      "Requirement already satisfied: torch>=1.6.0 in /Users/raji/opt/anaconda3/lib/python3.7/site-packages (from sentence_transformers) (1.8.1)\n",
      "Collecting torchvision\n",
      "  Downloading torchvision-0.10.1-cp37-cp37m-macosx_10_9_x86_64.whl (14.3 MB)\n",
      "\u001b[K     |████████████████████████████████| 14.3 MB 10.4 MB/s eta 0:00:01\n",
      "\u001b[?25hRequirement already satisfied: numpy in /Users/raji/opt/anaconda3/lib/python3.7/site-packages (from sentence_transformers) (1.17.2)\n",
      "Requirement already satisfied: scikit-learn in /Users/raji/opt/anaconda3/lib/python3.7/site-packages (from sentence_transformers) (0.24.2)\n",
      "Requirement already satisfied: scipy in /Users/raji/opt/anaconda3/lib/python3.7/site-packages (from sentence_transformers) (1.6.3)\n",
      "Requirement already satisfied: nltk in /Users/raji/opt/anaconda3/lib/python3.7/site-packages (from sentence_transformers) (3.6.2)\n",
      "Collecting sentencepiece\n",
      "  Downloading sentencepiece-0.1.96-cp37-cp37m-macosx_10_6_x86_64.whl (1.1 MB)\n",
      "\u001b[K     |████████████████████████████████| 1.1 MB 17.3 MB/s eta 0:00:01\n",
      "\u001b[?25hRequirement already satisfied: huggingface-hub in /Users/raji/opt/anaconda3/lib/python3.7/site-packages (from sentence_transformers) (0.0.8)\n",
      "Requirement already satisfied: typing-extensions in /Users/raji/opt/anaconda3/lib/python3.7/site-packages (from torch>=1.6.0->sentence_transformers) (3.10.0.0)\n",
      "Requirement already satisfied: sacremoses in /Users/raji/opt/anaconda3/lib/python3.7/site-packages (from transformers<5.0.0,>=4.6.0->sentence_transformers) (0.0.45)\n",
      "Requirement already satisfied: importlib-metadata in /Users/raji/opt/anaconda3/lib/python3.7/site-packages (from transformers<5.0.0,>=4.6.0->sentence_transformers) (0.23)\n",
      "Requirement already satisfied: regex!=2019.12.17 in /Users/raji/opt/anaconda3/lib/python3.7/site-packages (from transformers<5.0.0,>=4.6.0->sentence_transformers) (2021.4.4)\n",
      "Requirement already satisfied: packaging in /Users/raji/opt/anaconda3/lib/python3.7/site-packages (from transformers<5.0.0,>=4.6.0->sentence_transformers) (21.0)\n",
      "Requirement already satisfied: filelock in /Users/raji/opt/anaconda3/lib/python3.7/site-packages (from transformers<5.0.0,>=4.6.0->sentence_transformers) (3.0.12)\n",
      "Requirement already satisfied: requests in /Users/raji/opt/anaconda3/lib/python3.7/site-packages (from transformers<5.0.0,>=4.6.0->sentence_transformers) (2.25.1)\n",
      "Requirement already satisfied: zipp>=0.5 in /Users/raji/opt/anaconda3/lib/python3.7/site-packages (from importlib-metadata->transformers<5.0.0,>=4.6.0->sentence_transformers) (0.6.0)\n",
      "Requirement already satisfied: more-itertools in /Users/raji/opt/anaconda3/lib/python3.7/site-packages (from zipp>=0.5->importlib-metadata->transformers<5.0.0,>=4.6.0->sentence_transformers) (7.2.0)\n",
      "Requirement already satisfied: joblib in /Users/raji/opt/anaconda3/lib/python3.7/site-packages (from nltk->sentence_transformers) (0.17.0)\n",
      "Requirement already satisfied: click in /Users/raji/opt/anaconda3/lib/python3.7/site-packages (from nltk->sentence_transformers) (8.0.1)\n",
      "Requirement already satisfied: pyparsing>=2.0.2 in /Users/raji/opt/anaconda3/lib/python3.7/site-packages (from packaging->transformers<5.0.0,>=4.6.0->sentence_transformers) (2.4.2)\n",
      "Requirement already satisfied: idna<3,>=2.5 in /Users/raji/opt/anaconda3/lib/python3.7/site-packages (from requests->transformers<5.0.0,>=4.6.0->sentence_transformers) (2.8)\n",
      "Requirement already satisfied: urllib3<1.27,>=1.21.1 in /Users/raji/opt/anaconda3/lib/python3.7/site-packages (from requests->transformers<5.0.0,>=4.6.0->sentence_transformers) (1.24.2)\n",
      "Requirement already satisfied: certifi>=2017.4.17 in /Users/raji/opt/anaconda3/lib/python3.7/site-packages (from requests->transformers<5.0.0,>=4.6.0->sentence_transformers) (2019.9.11)\n",
      "Requirement already satisfied: chardet<5,>=3.0.2 in /Users/raji/opt/anaconda3/lib/python3.7/site-packages (from requests->transformers<5.0.0,>=4.6.0->sentence_transformers) (3.0.4)\n",
      "Requirement already satisfied: six in /Users/raji/opt/anaconda3/lib/python3.7/site-packages (from sacremoses->transformers<5.0.0,>=4.6.0->sentence_transformers) (1.12.0)\n",
      "Requirement already satisfied: threadpoolctl>=2.0.0 in /Users/raji/opt/anaconda3/lib/python3.7/site-packages (from scikit-learn->sentence_transformers) (2.1.0)\n",
      "Requirement already satisfied: pillow>=5.3.0 in /Users/raji/opt/anaconda3/lib/python3.7/site-packages (from torchvision->sentence_transformers) (6.2.0)\n",
      "Collecting torch>=1.6.0\n",
      "  Downloading torch-1.9.1-cp37-none-macosx_10_9_x86_64.whl (218.7 MB)\n",
      "\u001b[K     |████████████████████████████████| 218.7 MB 54 kB/s s eta 0:00:01  |▏                               | 1.3 MB 7.0 MB/s eta 0:00:32     |▌                               | 3.2 MB 7.0 MB/s eta 0:00:31     |████                            | 27.7 MB 14.1 MB/s eta 0:00:14     |████▋                           | 31.4 MB 14.1 MB/s eta 0:00:14     |█████▍                          | 36.9 MB 16.5 MB/s eta 0:00:11     |███████▌                        | 51.0 MB 16.5 MB/s eta 0:00:11     |████████████████▏               | 110.7 MB 11.5 MB/s eta 0:00:10     |██████████████████▎             | 124.7 MB 16.5 MB/s eta 0:00:06��█▌            | 133.0 MB 16.5 MB/s eta 0:00:06     |███████████████████████▌        | 160.3 MB 18.8 MB/s eta 0:00:04     |████████████████████████████▊   | 196.0 MB 11.9 MB/s eta 0:00:02     |███████████████████████████████▋| 216.0 MB 11.9 MB/s eta 0:00:01\n",
      "\u001b[?25hBuilding wheels for collected packages: sentence-transformers\n",
      "  Building wheel for sentence-transformers (setup.py) ... \u001b[?25ldone\n",
      "\u001b[?25h  Created wheel for sentence-transformers: filename=sentence_transformers-2.1.0-py3-none-any.whl size=121000 sha256=9fb115158855f75aff5241de7c572a6d787d2a9c2409b18b4c10e157a74714c6\n",
      "  Stored in directory: /Users/raji/Library/Caches/pip/wheels/90/f0/bb/ed1add84da70092ea526466eadc2bfb197c4bcb8d4fa5f7bad\n",
      "Successfully built sentence-transformers\n",
      "Installing collected packages: torch, tokenizers, torchvision, sentencepiece, sentence-transformers\n",
      "  Attempting uninstall: torch\n",
      "    Found existing installation: torch 1.8.1\n",
      "    Uninstalling torch-1.8.1:\n",
      "      Successfully uninstalled torch-1.8.1\n",
      "  Attempting uninstall: tokenizers\n",
      "    Found existing installation: tokenizers 0.10.2\n",
      "    Uninstalling tokenizers-0.10.2:\n",
      "      Successfully uninstalled tokenizers-0.10.2\n",
      "Successfully installed sentence-transformers-2.1.0 sentencepiece-0.1.96 tokenizers-0.10.3 torch-1.9.1 torchvision-0.10.1\n"
     ]
    }
   ],
   "source": [
    "!pip install sentence_transformers\n",
    "from sentence_transformers import SentenceTransformer"
   ]
  },
  {
   "cell_type": "code",
   "execution_count": 20,
   "metadata": {},
   "outputs": [
    {
     "data": {
      "application/vnd.jupyter.widget-view+json": {
       "model_id": "ae607ae92661435590b5655f7a99420a",
       "version_major": 2,
       "version_minor": 0
      },
      "text/plain": [
       "Downloading:   0%|          | 0.00/690 [00:00<?, ?B/s]"
      ]
     },
     "metadata": {},
     "output_type": "display_data"
    },
    {
     "data": {
      "application/vnd.jupyter.widget-view+json": {
       "model_id": "e9d7caf1979d485c9c4b361011ced13b",
       "version_major": 2,
       "version_minor": 0
      },
      "text/plain": [
       "Downloading:   0%|          | 0.00/3.69k [00:00<?, ?B/s]"
      ]
     },
     "metadata": {},
     "output_type": "display_data"
    },
    {
     "data": {
      "application/vnd.jupyter.widget-view+json": {
       "model_id": "3ee8c5f5f4b04a66bd3bf112bfc8f331",
       "version_major": 2,
       "version_minor": 0
      },
      "text/plain": [
       "Downloading:   0%|          | 0.00/629 [00:00<?, ?B/s]"
      ]
     },
     "metadata": {},
     "output_type": "display_data"
    },
    {
     "data": {
      "application/vnd.jupyter.widget-view+json": {
       "model_id": "3c35eaae6a844978be6ef6fea099b236",
       "version_major": 2,
       "version_minor": 0
      },
      "text/plain": [
       "Downloading:   0%|          | 0.00/122 [00:00<?, ?B/s]"
      ]
     },
     "metadata": {},
     "output_type": "display_data"
    },
    {
     "data": {
      "application/vnd.jupyter.widget-view+json": {
       "model_id": "96523d9e199b42c1aca88e140b6f5deb",
       "version_major": 2,
       "version_minor": 0
      },
      "text/plain": [
       "Downloading:   0%|          | 0.00/229 [00:00<?, ?B/s]"
      ]
     },
     "metadata": {},
     "output_type": "display_data"
    },
    {
     "data": {
      "application/vnd.jupyter.widget-view+json": {
       "model_id": "69ad1f67b983443b9149cf8ec346357a",
       "version_major": 2,
       "version_minor": 0
      },
      "text/plain": [
       "Downloading:   0%|          | 0.00/90.9M [00:00<?, ?B/s]"
      ]
     },
     "metadata": {},
     "output_type": "display_data"
    },
    {
     "data": {
      "application/vnd.jupyter.widget-view+json": {
       "model_id": "6fa0afedb13c40029e07e9d6fa32b531",
       "version_major": 2,
       "version_minor": 0
      },
      "text/plain": [
       "Downloading:   0%|          | 0.00/53.0 [00:00<?, ?B/s]"
      ]
     },
     "metadata": {},
     "output_type": "display_data"
    },
    {
     "data": {
      "application/vnd.jupyter.widget-view+json": {
       "model_id": "9e47bc80e2c64c19b7cc1590b8c0467a",
       "version_major": 2,
       "version_minor": 0
      },
      "text/plain": [
       "Downloading:   0%|          | 0.00/112 [00:00<?, ?B/s]"
      ]
     },
     "metadata": {},
     "output_type": "display_data"
    },
    {
     "data": {
      "application/vnd.jupyter.widget-view+json": {
       "model_id": "f2e0264b60614afea23b1ab15076c4d9",
       "version_major": 2,
       "version_minor": 0
      },
      "text/plain": [
       "Downloading:   0%|          | 0.00/466k [00:00<?, ?B/s]"
      ]
     },
     "metadata": {},
     "output_type": "display_data"
    },
    {
     "data": {
      "application/vnd.jupyter.widget-view+json": {
       "model_id": "fb52c9aaa2a942ca945c9abdd8e51952",
       "version_major": 2,
       "version_minor": 0
      },
      "text/plain": [
       "Downloading:   0%|          | 0.00/314 [00:00<?, ?B/s]"
      ]
     },
     "metadata": {},
     "output_type": "display_data"
    },
    {
     "data": {
      "application/vnd.jupyter.widget-view+json": {
       "model_id": "45c4390e7f004d67812806fd4f32020b",
       "version_major": 2,
       "version_minor": 0
      },
      "text/plain": [
       "Downloading:   0%|          | 0.00/232k [00:00<?, ?B/s]"
      ]
     },
     "metadata": {},
     "output_type": "display_data"
    },
    {
     "data": {
      "application/vnd.jupyter.widget-view+json": {
       "model_id": "6173d6fb5e184bdbbfaa9e0ee35bc84f",
       "version_major": 2,
       "version_minor": 0
      },
      "text/plain": [
       "Downloading:   0%|          | 0.00/190 [00:00<?, ?B/s]"
      ]
     },
     "metadata": {},
     "output_type": "display_data"
    }
   ],
   "source": [
    "BERT_MODEL = ('paraphrase-MiniLM-L6-v2')\n",
    "model = SentenceTransformer(BERT_MODEL)"
   ]
  },
  {
   "cell_type": "code",
   "execution_count": 45,
   "metadata": {},
   "outputs": [],
   "source": [
    "ticket_emb = model.encode(dfTickets_small['body'])"
   ]
  },
  {
   "cell_type": "code",
   "execution_count": 46,
   "metadata": {},
   "outputs": [],
   "source": [
    "kmeans_cluster_emb = coclust.clustering.SphericalKmeans(n_clusters=30)"
   ]
  },
  {
   "cell_type": "code",
   "execution_count": 47,
   "metadata": {},
   "outputs": [
    {
     "name": "stdout",
     "output_type": "stream",
     "text": [
      " == New init == \n",
      "iteration: 0\n",
      "5297.2296017433\n",
      "iteration: 1\n",
      "6100.981790010512\n",
      "iteration: 2\n",
      "6355.379304478043\n",
      "iteration: 3\n",
      "6445.5639347242195\n",
      "iteration: 4\n",
      "6485.047438089485\n",
      "iteration: 5\n",
      "6511.4382564665375\n",
      "iteration: 6\n",
      "6527.379314342709\n",
      "iteration: 7\n",
      "6540.712341671246\n",
      "iteration: 8\n",
      "6549.726884356716\n",
      "iteration: 9\n",
      "6556.1413596313405\n",
      "iteration: 10\n",
      "6560.06845936439\n",
      "iteration: 11\n",
      "6562.657799003751\n",
      "iteration: 12\n",
      "6565.010988893208\n",
      "iteration: 13\n",
      "6567.052818481476\n",
      "iteration: 14\n",
      "6569.664549924361\n",
      "iteration: 15\n",
      "6572.709004160613\n",
      "iteration: 16\n",
      "6575.442192390592\n",
      "iteration: 17\n",
      "6577.1876054827635\n",
      "iteration: 18\n",
      "6578.188582048448\n",
      "iteration: 19\n",
      "6578.903737606958\n"
     ]
    }
   ],
   "source": [
    "kmeans_cluster_emb.fit(ticket_emb)"
   ]
  },
  {
   "cell_type": "code",
   "execution_count": 66,
   "metadata": {},
   "outputs": [],
   "source": [
    "#kmeans_cluster_emb.labels_"
   ]
  },
  {
   "cell_type": "code",
   "execution_count": 49,
   "metadata": {},
   "outputs": [],
   "source": [
    "dfTickets_cluster_emb_kmeans = dfTickets_small"
   ]
  },
  {
   "cell_type": "code",
   "execution_count": 54,
   "metadata": {},
   "outputs": [
    {
     "name": "stderr",
     "output_type": "stream",
     "text": [
      "/Users/raji/opt/anaconda3/lib/python3.7/site-packages/ipykernel_launcher.py:1: SettingWithCopyWarning: \n",
      "A value is trying to be set on a copy of a slice from a DataFrame.\n",
      "Try using .loc[row_indexer,col_indexer] = value instead\n",
      "\n",
      "See the caveats in the documentation: https://pandas.pydata.org/pandas-docs/stable/user_guide/indexing.html#returning-a-view-versus-a-copy\n",
      "  \"\"\"Entry point for launching an IPython kernel.\n"
     ]
    }
   ],
   "source": [
    "dfTickets_cluster_emb_kmeans['clusterno'] = kmeans_cluster_emb.labels_"
   ]
  },
  {
   "cell_type": "code",
   "execution_count": 55,
   "metadata": {},
   "outputs": [
    {
     "data": {
      "text/html": [
       "<div>\n",
       "<style scoped>\n",
       "    .dataframe tbody tr th:only-of-type {\n",
       "        vertical-align: middle;\n",
       "    }\n",
       "\n",
       "    .dataframe tbody tr th {\n",
       "        vertical-align: top;\n",
       "    }\n",
       "\n",
       "    .dataframe thead th {\n",
       "        text-align: right;\n",
       "    }\n",
       "</style>\n",
       "<table border=\"1\" class=\"dataframe\">\n",
       "  <thead>\n",
       "    <tr style=\"text-align: right;\">\n",
       "      <th></th>\n",
       "      <th>title</th>\n",
       "      <th>body</th>\n",
       "      <th>ticket_type</th>\n",
       "      <th>category</th>\n",
       "      <th>sub_category1</th>\n",
       "      <th>sub_category2</th>\n",
       "      <th>business_service</th>\n",
       "      <th>urgency</th>\n",
       "      <th>impact</th>\n",
       "      <th>clusterno</th>\n",
       "    </tr>\n",
       "  </thead>\n",
       "  <tbody>\n",
       "    <tr>\n",
       "      <th>29</th>\n",
       "      <td>change project manager role oracle</td>\n",
       "      <td>change role hello dear please change pm role s...</td>\n",
       "      <td>1</td>\n",
       "      <td>4</td>\n",
       "      <td>2</td>\n",
       "      <td>21</td>\n",
       "      <td>66</td>\n",
       "      <td>3</td>\n",
       "      <td>4</td>\n",
       "      <td>3</td>\n",
       "    </tr>\n",
       "    <tr>\n",
       "      <th>72</th>\n",
       "      <td>revise access to location</td>\n",
       "      <td>revise location hello please revise location u...</td>\n",
       "      <td>1</td>\n",
       "      <td>4</td>\n",
       "      <td>2</td>\n",
       "      <td>21</td>\n",
       "      <td>92</td>\n",
       "      <td>3</td>\n",
       "      <td>4</td>\n",
       "      <td>3</td>\n",
       "    </tr>\n",
       "    <tr>\n",
       "      <th>76</th>\n",
       "      <td>all staff outlook</td>\n",
       "      <td>hello please make cancel moved offices startin...</td>\n",
       "      <td>1</td>\n",
       "      <td>4</td>\n",
       "      <td>3</td>\n",
       "      <td>7</td>\n",
       "      <td>36</td>\n",
       "      <td>3</td>\n",
       "      <td>4</td>\n",
       "      <td>3</td>\n",
       "    </tr>\n",
       "    <tr>\n",
       "      <th>112</th>\n",
       "      <td>change job titles for and</td>\n",
       "      <td>change job titles dear please change job title...</td>\n",
       "      <td>1</td>\n",
       "      <td>4</td>\n",
       "      <td>2</td>\n",
       "      <td>21</td>\n",
       "      <td>4</td>\n",
       "      <td>3</td>\n",
       "      <td>4</td>\n",
       "      <td>3</td>\n",
       "    </tr>\n",
       "    <tr>\n",
       "      <th>118</th>\n",
       "      <td>carrier change request</td>\n",
       "      <td>carrier change dear please changing confirmed ...</td>\n",
       "      <td>1</td>\n",
       "      <td>4</td>\n",
       "      <td>2</td>\n",
       "      <td>21</td>\n",
       "      <td>67</td>\n",
       "      <td>3</td>\n",
       "      <td>4</td>\n",
       "      <td>3</td>\n",
       "    </tr>\n",
       "    <tr>\n",
       "      <th>...</th>\n",
       "      <td>...</td>\n",
       "      <td>...</td>\n",
       "      <td>...</td>\n",
       "      <td>...</td>\n",
       "      <td>...</td>\n",
       "      <td>...</td>\n",
       "      <td>...</td>\n",
       "      <td>...</td>\n",
       "      <td>...</td>\n",
       "      <td>...</td>\n",
       "    </tr>\n",
       "    <tr>\n",
       "      <th>9943</th>\n",
       "      <td>atlanta new employee laptop issue</td>\n",
       "      <td>atlanta issue hello requiring change allow als...</td>\n",
       "      <td>1</td>\n",
       "      <td>4</td>\n",
       "      <td>3</td>\n",
       "      <td>76</td>\n",
       "      <td>4</td>\n",
       "      <td>3</td>\n",
       "      <td>4</td>\n",
       "      <td>3</td>\n",
       "    </tr>\n",
       "    <tr>\n",
       "      <th>9946</th>\n",
       "      <td>people manager change for</td>\n",
       "      <td>change hi please change thank kind regards dis...</td>\n",
       "      <td>1</td>\n",
       "      <td>4</td>\n",
       "      <td>2</td>\n",
       "      <td>21</td>\n",
       "      <td>67</td>\n",
       "      <td>3</td>\n",
       "      <td>4</td>\n",
       "      <td>3</td>\n",
       "    </tr>\n",
       "    <tr>\n",
       "      <th>9948</th>\n",
       "      <td>replacement</td>\n",
       "      <td>replacement hello please replace assign her pe...</td>\n",
       "      <td>1</td>\n",
       "      <td>5</td>\n",
       "      <td>13</td>\n",
       "      <td>7</td>\n",
       "      <td>32</td>\n",
       "      <td>3</td>\n",
       "      <td>4</td>\n",
       "      <td>3</td>\n",
       "    </tr>\n",
       "    <tr>\n",
       "      <th>9963</th>\n",
       "      <td>career changing</td>\n",
       "      <td>changing hi view matrix chart his please regar...</td>\n",
       "      <td>1</td>\n",
       "      <td>4</td>\n",
       "      <td>2</td>\n",
       "      <td>21</td>\n",
       "      <td>67</td>\n",
       "      <td>3</td>\n",
       "      <td>4</td>\n",
       "      <td>3</td>\n",
       "    </tr>\n",
       "    <tr>\n",
       "      <th>9972</th>\n",
       "      <td>change client name oracle</td>\n",
       "      <td>re change client name hi please log assigned s...</td>\n",
       "      <td>1</td>\n",
       "      <td>4</td>\n",
       "      <td>2</td>\n",
       "      <td>21</td>\n",
       "      <td>66</td>\n",
       "      <td>3</td>\n",
       "      <td>4</td>\n",
       "      <td>3</td>\n",
       "    </tr>\n",
       "  </tbody>\n",
       "</table>\n",
       "<p>405 rows × 10 columns</p>\n",
       "</div>"
      ],
      "text/plain": [
       "                                   title  \\\n",
       "29    change project manager role oracle   \n",
       "72             revise access to location   \n",
       "76                     all staff outlook   \n",
       "112            change job titles for and   \n",
       "118               carrier change request   \n",
       "...                                  ...   \n",
       "9943   atlanta new employee laptop issue   \n",
       "9946           people manager change for   \n",
       "9948                         replacement   \n",
       "9963                     career changing   \n",
       "9972           change client name oracle   \n",
       "\n",
       "                                                   body  ticket_type  \\\n",
       "29    change role hello dear please change pm role s...            1   \n",
       "72    revise location hello please revise location u...            1   \n",
       "76    hello please make cancel moved offices startin...            1   \n",
       "112   change job titles dear please change job title...            1   \n",
       "118   carrier change dear please changing confirmed ...            1   \n",
       "...                                                 ...          ...   \n",
       "9943  atlanta issue hello requiring change allow als...            1   \n",
       "9946  change hi please change thank kind regards dis...            1   \n",
       "9948  replacement hello please replace assign her pe...            1   \n",
       "9963  changing hi view matrix chart his please regar...            1   \n",
       "9972  re change client name hi please log assigned s...            1   \n",
       "\n",
       "      category  sub_category1  sub_category2  business_service  urgency  \\\n",
       "29           4              2             21                66        3   \n",
       "72           4              2             21                92        3   \n",
       "76           4              3              7                36        3   \n",
       "112          4              2             21                 4        3   \n",
       "118          4              2             21                67        3   \n",
       "...        ...            ...            ...               ...      ...   \n",
       "9943         4              3             76                 4        3   \n",
       "9946         4              2             21                67        3   \n",
       "9948         5             13              7                32        3   \n",
       "9963         4              2             21                67        3   \n",
       "9972         4              2             21                66        3   \n",
       "\n",
       "      impact  clusterno  \n",
       "29         4          3  \n",
       "72         4          3  \n",
       "76         4          3  \n",
       "112        4          3  \n",
       "118        4          3  \n",
       "...      ...        ...  \n",
       "9943       4          3  \n",
       "9946       4          3  \n",
       "9948       4          3  \n",
       "9963       4          3  \n",
       "9972       4          3  \n",
       "\n",
       "[405 rows x 10 columns]"
      ]
     },
     "execution_count": 55,
     "metadata": {},
     "output_type": "execute_result"
    }
   ],
   "source": [
    "dfTickets_cluster_emb_kmeans.loc[dfTickets_cluster_emb_kmeans['clusterno']==3]"
   ]
  },
  {
   "cell_type": "code",
   "execution_count": 56,
   "metadata": {},
   "outputs": [],
   "source": [
    "dfTickets_cluster_emb_kmeans.to_excel(\"output_sphericalkmeans_emb_30.xlsx\") "
   ]
  },
  {
   "cell_type": "code",
   "execution_count": null,
   "metadata": {},
   "outputs": [],
   "source": [
    "#Trying with HDBScan with embedding"
   ]
  },
  {
   "cell_type": "code",
   "execution_count": 57,
   "metadata": {},
   "outputs": [],
   "source": [
    "#import hdbscan\n",
    "\n",
    "clusterer = hdbscan.HDBSCAN(min_cluster_size=30)"
   ]
  },
  {
   "cell_type": "code",
   "execution_count": 58,
   "metadata": {},
   "outputs": [
    {
     "data": {
      "text/plain": [
       "HDBSCAN(min_cluster_size=30)"
      ]
     },
     "execution_count": 58,
     "metadata": {},
     "output_type": "execute_result"
    }
   ],
   "source": [
    "clusterer.fit(ticket_emb)"
   ]
  },
  {
   "cell_type": "code",
   "execution_count": 59,
   "metadata": {},
   "outputs": [
    {
     "data": {
      "text/plain": [
       "array([-1, -1, -1, ..., -1, -1, -1])"
      ]
     },
     "execution_count": 59,
     "metadata": {},
     "output_type": "execute_result"
    }
   ],
   "source": [
    "clusterer.labels_"
   ]
  },
  {
   "cell_type": "code",
   "execution_count": 60,
   "metadata": {},
   "outputs": [],
   "source": [
    "dfTickets_cluster_emb_hdbscan = dfTickets_small"
   ]
  },
  {
   "cell_type": "code",
   "execution_count": 61,
   "metadata": {},
   "outputs": [
    {
     "name": "stderr",
     "output_type": "stream",
     "text": [
      "/Users/raji/opt/anaconda3/lib/python3.7/site-packages/ipykernel_launcher.py:1: SettingWithCopyWarning: \n",
      "A value is trying to be set on a copy of a slice from a DataFrame.\n",
      "Try using .loc[row_indexer,col_indexer] = value instead\n",
      "\n",
      "See the caveats in the documentation: https://pandas.pydata.org/pandas-docs/stable/user_guide/indexing.html#returning-a-view-versus-a-copy\n",
      "  \"\"\"Entry point for launching an IPython kernel.\n"
     ]
    }
   ],
   "source": [
    "dfTickets_cluster_emb_hdbscan['clusterno'] = clusterer.labels_.tolist()"
   ]
  },
  {
   "cell_type": "code",
   "execution_count": 62,
   "metadata": {},
   "outputs": [
    {
     "data": {
      "text/plain": [
       "<bound method NDFrame.head of                                       title  \\\n",
       "0                                       NaN   \n",
       "1                      connection with icon   \n",
       "2                      work experience user   \n",
       "3                    requesting for meeting   \n",
       "4     reset passwords for external accounts   \n",
       "...                                     ...   \n",
       "9995                            access card   \n",
       "9996                        card new joiner   \n",
       "9997                             and access   \n",
       "9998                             new switch   \n",
       "9999                merchant portal site on   \n",
       "\n",
       "                                                   body  ticket_type  \\\n",
       "0     hi since recruiter lead permission approve req...            1   \n",
       "1     icon dear please setup icon per icon engineers...            1   \n",
       "2     work experience user hi work experience studen...            1   \n",
       "3     requesting meeting hi please help follow equip...            1   \n",
       "4     re expire days hi ask help update passwords co...            1   \n",
       "...                                                 ...          ...   \n",
       "9995  card hello moved understanding she left her ca...            1   \n",
       "9996           card joiner functional fie functional si            1   \n",
       "9997                                        please user            1   \n",
       "9998  switch problem switch la ca si merge port mea ...            1   \n",
       "9999  merchant site dear please create merchant part...            1   \n",
       "\n",
       "      category  sub_category1  sub_category2  business_service  urgency  \\\n",
       "0            4              2             21                71        3   \n",
       "1            6             22              7                26        3   \n",
       "2            5             13              7                32        3   \n",
       "3            5             13              7                32        3   \n",
       "4            4              2             76                 4        3   \n",
       "...        ...            ...            ...               ...      ...   \n",
       "9995         5             13              7                73        3   \n",
       "9996         7              1              7                73        3   \n",
       "9997         4              1              7                19        3   \n",
       "9998         6             22              7                52        3   \n",
       "9999         4              2              7                46        3   \n",
       "\n",
       "      impact  clusterno  \n",
       "0          4         -1  \n",
       "1          4         -1  \n",
       "2          4         -1  \n",
       "3          4         -1  \n",
       "4          4         -1  \n",
       "...      ...        ...  \n",
       "9995       4         -1  \n",
       "9996       4         -1  \n",
       "9997       4         -1  \n",
       "9998       4         -1  \n",
       "9999       4         -1  \n",
       "\n",
       "[10000 rows x 10 columns]>"
      ]
     },
     "execution_count": 62,
     "metadata": {},
     "output_type": "execute_result"
    }
   ],
   "source": [
    "dfTickets_cluster_emb_hdbscan.head"
   ]
  },
  {
   "cell_type": "code",
   "execution_count": 63,
   "metadata": {},
   "outputs": [
    {
     "data": {
      "text/html": [
       "<div>\n",
       "<style scoped>\n",
       "    .dataframe tbody tr th:only-of-type {\n",
       "        vertical-align: middle;\n",
       "    }\n",
       "\n",
       "    .dataframe tbody tr th {\n",
       "        vertical-align: top;\n",
       "    }\n",
       "\n",
       "    .dataframe thead th {\n",
       "        text-align: right;\n",
       "    }\n",
       "</style>\n",
       "<table border=\"1\" class=\"dataframe\">\n",
       "  <thead>\n",
       "    <tr style=\"text-align: right;\">\n",
       "      <th></th>\n",
       "      <th>title</th>\n",
       "      <th>body</th>\n",
       "      <th>ticket_type</th>\n",
       "      <th>category</th>\n",
       "      <th>sub_category1</th>\n",
       "      <th>sub_category2</th>\n",
       "      <th>business_service</th>\n",
       "      <th>urgency</th>\n",
       "      <th>impact</th>\n",
       "      <th>clusterno</th>\n",
       "    </tr>\n",
       "  </thead>\n",
       "  <tbody>\n",
       "    <tr>\n",
       "      <th>52</th>\n",
       "      <td>leaver service now</td>\n",
       "      <td>leaver form leave date location hello leaver f...</td>\n",
       "      <td>1</td>\n",
       "      <td>4</td>\n",
       "      <td>2</td>\n",
       "      <td>51</td>\n",
       "      <td>43</td>\n",
       "      <td>3</td>\n",
       "      <td>4</td>\n",
       "      <td>3</td>\n",
       "    </tr>\n",
       "    <tr>\n",
       "      <th>210</th>\n",
       "      <td>leaver service now belgrade</td>\n",
       "      <td>leaver form leave date location hello leaver f...</td>\n",
       "      <td>1</td>\n",
       "      <td>4</td>\n",
       "      <td>2</td>\n",
       "      <td>51</td>\n",
       "      <td>43</td>\n",
       "      <td>3</td>\n",
       "      <td>4</td>\n",
       "      <td>3</td>\n",
       "    </tr>\n",
       "    <tr>\n",
       "      <th>402</th>\n",
       "      <td>leaver centre</td>\n",
       "      <td>leaver form leave date location centre hello l...</td>\n",
       "      <td>1</td>\n",
       "      <td>5</td>\n",
       "      <td>1</td>\n",
       "      <td>51</td>\n",
       "      <td>32</td>\n",
       "      <td>3</td>\n",
       "      <td>4</td>\n",
       "      <td>3</td>\n",
       "    </tr>\n",
       "    <tr>\n",
       "      <th>434</th>\n",
       "      <td>leaver center</td>\n",
       "      <td>leaver form leave date location center hello l...</td>\n",
       "      <td>1</td>\n",
       "      <td>4</td>\n",
       "      <td>2</td>\n",
       "      <td>51</td>\n",
       "      <td>32</td>\n",
       "      <td>3</td>\n",
       "      <td>4</td>\n",
       "      <td>3</td>\n",
       "    </tr>\n",
       "    <tr>\n",
       "      <th>500</th>\n",
       "      <td>leaver form for leave date location snow</td>\n",
       "      <td>leaver form leave date location hello leaver f...</td>\n",
       "      <td>1</td>\n",
       "      <td>4</td>\n",
       "      <td>2</td>\n",
       "      <td>51</td>\n",
       "      <td>43</td>\n",
       "      <td>3</td>\n",
       "      <td>4</td>\n",
       "      <td>3</td>\n",
       "    </tr>\n",
       "    <tr>\n",
       "      <th>...</th>\n",
       "      <td>...</td>\n",
       "      <td>...</td>\n",
       "      <td>...</td>\n",
       "      <td>...</td>\n",
       "      <td>...</td>\n",
       "      <td>...</td>\n",
       "      <td>...</td>\n",
       "      <td>...</td>\n",
       "      <td>...</td>\n",
       "      <td>...</td>\n",
       "    </tr>\n",
       "    <tr>\n",
       "      <th>9629</th>\n",
       "      <td>leaver form for leave date location</td>\n",
       "      <td>leaver form leave date location hello leaver f...</td>\n",
       "      <td>1</td>\n",
       "      <td>4</td>\n",
       "      <td>2</td>\n",
       "      <td>51</td>\n",
       "      <td>56</td>\n",
       "      <td>3</td>\n",
       "      <td>4</td>\n",
       "      <td>3</td>\n",
       "    </tr>\n",
       "    <tr>\n",
       "      <th>9882</th>\n",
       "      <td>leaver service now tower</td>\n",
       "      <td>thursday leaver form leave date location tower...</td>\n",
       "      <td>1</td>\n",
       "      <td>4</td>\n",
       "      <td>2</td>\n",
       "      <td>51</td>\n",
       "      <td>56</td>\n",
       "      <td>3</td>\n",
       "      <td>4</td>\n",
       "      <td>3</td>\n",
       "    </tr>\n",
       "    <tr>\n",
       "      <th>9909</th>\n",
       "      <td>timecard for leaver</td>\n",
       "      <td>leaver form hello help card thank pm re leaver...</td>\n",
       "      <td>1</td>\n",
       "      <td>4</td>\n",
       "      <td>2</td>\n",
       "      <td>21</td>\n",
       "      <td>66</td>\n",
       "      <td>3</td>\n",
       "      <td>4</td>\n",
       "      <td>3</td>\n",
       "    </tr>\n",
       "    <tr>\n",
       "      <th>9916</th>\n",
       "      <td>leaver ad</td>\n",
       "      <td>leaver form leave date location hello leaver f...</td>\n",
       "      <td>1</td>\n",
       "      <td>4</td>\n",
       "      <td>1</td>\n",
       "      <td>51</td>\n",
       "      <td>4</td>\n",
       "      <td>3</td>\n",
       "      <td>4</td>\n",
       "      <td>3</td>\n",
       "    </tr>\n",
       "    <tr>\n",
       "      <th>9922</th>\n",
       "      <td>leaver</td>\n",
       "      <td>friday pm leaver form leave date location hell...</td>\n",
       "      <td>1</td>\n",
       "      <td>4</td>\n",
       "      <td>1</td>\n",
       "      <td>51</td>\n",
       "      <td>87</td>\n",
       "      <td>3</td>\n",
       "      <td>4</td>\n",
       "      <td>3</td>\n",
       "    </tr>\n",
       "  </tbody>\n",
       "</table>\n",
       "<p>145 rows × 10 columns</p>\n",
       "</div>"
      ],
      "text/plain": [
       "                                         title  \\\n",
       "52                          leaver service now   \n",
       "210                leaver service now belgrade   \n",
       "402                              leaver centre   \n",
       "434                              leaver center   \n",
       "500   leaver form for leave date location snow   \n",
       "...                                        ...   \n",
       "9629       leaver form for leave date location   \n",
       "9882                  leaver service now tower   \n",
       "9909                       timecard for leaver   \n",
       "9916                                 leaver ad   \n",
       "9922                                    leaver   \n",
       "\n",
       "                                                   body  ticket_type  \\\n",
       "52    leaver form leave date location hello leaver f...            1   \n",
       "210   leaver form leave date location hello leaver f...            1   \n",
       "402   leaver form leave date location centre hello l...            1   \n",
       "434   leaver form leave date location center hello l...            1   \n",
       "500   leaver form leave date location hello leaver f...            1   \n",
       "...                                                 ...          ...   \n",
       "9629  leaver form leave date location hello leaver f...            1   \n",
       "9882  thursday leaver form leave date location tower...            1   \n",
       "9909  leaver form hello help card thank pm re leaver...            1   \n",
       "9916  leaver form leave date location hello leaver f...            1   \n",
       "9922  friday pm leaver form leave date location hell...            1   \n",
       "\n",
       "      category  sub_category1  sub_category2  business_service  urgency  \\\n",
       "52           4              2             51                43        3   \n",
       "210          4              2             51                43        3   \n",
       "402          5              1             51                32        3   \n",
       "434          4              2             51                32        3   \n",
       "500          4              2             51                43        3   \n",
       "...        ...            ...            ...               ...      ...   \n",
       "9629         4              2             51                56        3   \n",
       "9882         4              2             51                56        3   \n",
       "9909         4              2             21                66        3   \n",
       "9916         4              1             51                 4        3   \n",
       "9922         4              1             51                87        3   \n",
       "\n",
       "      impact  clusterno  \n",
       "52         4          3  \n",
       "210        4          3  \n",
       "402        4          3  \n",
       "434        4          3  \n",
       "500        4          3  \n",
       "...      ...        ...  \n",
       "9629       4          3  \n",
       "9882       4          3  \n",
       "9909       4          3  \n",
       "9916       4          3  \n",
       "9922       4          3  \n",
       "\n",
       "[145 rows x 10 columns]"
      ]
     },
     "execution_count": 63,
     "metadata": {},
     "output_type": "execute_result"
    }
   ],
   "source": [
    "dfTickets_cluster_emb_hdbscan.loc[dfTickets_cluster_emb_hdbscan['clusterno']==3]"
   ]
  },
  {
   "cell_type": "code",
   "execution_count": 64,
   "metadata": {},
   "outputs": [],
   "source": [
    "dfTickets_cluster_emb_hdbscan.to_excel(\"output_hdbscan_emb_30.xlsx\") "
   ]
  }
 ],
 "metadata": {
  "kernelspec": {
   "display_name": "Python 3",
   "language": "python",
   "name": "python3"
  },
  "language_info": {
   "codemirror_mode": {
    "name": "ipython",
    "version": 3
   },
   "file_extension": ".py",
   "mimetype": "text/x-python",
   "name": "python",
   "nbconvert_exporter": "python",
   "pygments_lexer": "ipython3",
   "version": "3.7.4"
  }
 },
 "nbformat": 4,
 "nbformat_minor": 4
}
